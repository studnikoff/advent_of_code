{
 "cells": [
  {
   "cell_type": "markdown",
   "metadata": {},
   "source": [
    "# Part 1"
   ]
  },
  {
   "cell_type": "code",
   "execution_count": 3,
   "metadata": {},
   "outputs": [],
   "source": [
    "def convert_to_int(elf_list: list):\n",
    "    for i in range(len(elf_list)):\n",
    "        if elf_list[i] != '':\n",
    "            elf_list[i] = int(elf_list[i])\n",
    "        else:\n",
    "            elf_list[i] = 0\n",
    "\n",
    "def elf_with_max_calories(elfs: list):\n",
    "    max_sum = 0\n",
    "    for elf_list in elfs:\n",
    "        convert_to_int(elf_list)\n",
    "        new_sum = sum(elf_list)\n",
    "        if max_sum < new_sum:\n",
    "            max_sum = new_sum \n",
    "\n",
    "    return max_sum"
   ]
  },
  {
   "cell_type": "code",
   "execution_count": 4,
   "metadata": {},
   "outputs": [],
   "source": [
    "with open('advent_input11.txt', 'r') as f:\n",
    "    inp = f.read()"
   ]
  },
  {
   "cell_type": "code",
   "execution_count": 5,
   "metadata": {},
   "outputs": [],
   "source": [
    "elfs = [i.split('\\n') for i in inp.split('\\n\\n')]"
   ]
  },
  {
   "cell_type": "code",
   "execution_count": 6,
   "metadata": {},
   "outputs": [
    {
     "data": {
      "text/plain": [
       "66306"
      ]
     },
     "execution_count": 6,
     "metadata": {},
     "output_type": "execute_result"
    }
   ],
   "source": [
    "elf_with_max_calories(elfs)"
   ]
  },
  {
   "cell_type": "markdown",
   "metadata": {},
   "source": [
    "# Part 2"
   ]
  },
  {
   "cell_type": "code",
   "execution_count": 1,
   "metadata": {},
   "outputs": [],
   "source": [
    "def topn_with_max_calories(elfs: list, top: int):\n",
    "    n = top\n",
    "    top_elfs_sum = [0 for i in range(n)]\n",
    "    for elf_list in elfs:\n",
    "        convert_to_int(elf_list)\n",
    "        new_sum = sum(elf_list)\n",
    "\n",
    "        for top_elf_id in range(n):\n",
    "            top_elf_sum = top_elfs_sum[top_elf_id]\n",
    "            if new_sum > top_elf_sum:\n",
    "                top_elfs_sum[top_elf_id] = new_sum\n",
    "                break\n",
    "\n",
    "    return sum(top_elfs_sum)"
   ]
  },
  {
   "cell_type": "code",
   "execution_count": 8,
   "metadata": {},
   "outputs": [
    {
     "data": {
      "text/plain": [
       "195292"
      ]
     },
     "execution_count": 8,
     "metadata": {},
     "output_type": "execute_result"
    }
   ],
   "source": [
    "topn_with_max_calories(elfs, 3)"
   ]
  }
 ],
 "metadata": {
  "kernelspec": {
   "display_name": "Python 3.8.3 ('base')",
   "language": "python",
   "name": "python3"
  },
  "language_info": {
   "codemirror_mode": {
    "name": "ipython",
    "version": 3
   },
   "file_extension": ".py",
   "mimetype": "text/x-python",
   "name": "python",
   "nbconvert_exporter": "python",
   "pygments_lexer": "ipython3",
   "version": "3.8.3"
  },
  "orig_nbformat": 4,
  "vscode": {
   "interpreter": {
    "hash": "51853e7b9ef17813c44e26c24e67824e1c2e4c124b5e14e97c176b5b64c6e1b4"
   }
  }
 },
 "nbformat": 4,
 "nbformat_minor": 2
}
