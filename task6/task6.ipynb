{
 "cells": [
  {
   "cell_type": "markdown",
   "metadata": {},
   "source": [
    "# Part 1"
   ]
  },
  {
   "cell_type": "code",
   "execution_count": 1,
   "metadata": {},
   "outputs": [],
   "source": [
    "# Get input\n",
    "with open('input.txt', 'r') as f:\n",
    "    inp = f.read()"
   ]
  },
  {
   "cell_type": "code",
   "execution_count": 42,
   "metadata": {},
   "outputs": [],
   "source": [
    "from collections import deque\n",
    "\n",
    "queue = deque(maxlen=4)\n",
    "cnt = 0\n",
    "for letter in inp:\n",
    "    cnt += 1\n",
    "    if len(queue) < 4:\n",
    "        queue.append(letter)\n",
    "        continue\n",
    "    else:\n",
    "        if len(set(queue)) == 4:\n",
    "            res = cnt\n",
    "            break\n",
    "    \n",
    "    queue.append(letter)\n",
    "    if len(set(queue)) == 4:\n",
    "        res = cnt\n",
    "        break\n",
    "    else:\n",
    "        continue\n",
    "\n"
   ]
  },
  {
   "cell_type": "markdown",
   "metadata": {},
   "source": [
    "# Part 2 "
   ]
  },
  {
   "cell_type": "code",
   "execution_count": 50,
   "metadata": {},
   "outputs": [
    {
     "name": "stdout",
     "output_type": "stream",
     "text": [
      "2301\n"
     ]
    }
   ],
   "source": [
    "from collections import deque\n",
    "\n",
    "N = 14\n",
    "queue = deque(maxlen=N)\n",
    "cnt = 0\n",
    "for letter in inp:\n",
    "    cnt += 1\n",
    "    if len(queue) < N:\n",
    "        queue.append(letter)\n",
    "        continue\n",
    "    else:\n",
    "        if len(set(queue)) == N:\n",
    "            res = cnt\n",
    "            break\n",
    "    \n",
    "    queue.append(letter)\n",
    "    if len(set(queue)) == N:\n",
    "        res = cnt\n",
    "        break\n",
    "    else:\n",
    "        continue\n",
    "print(res)"
   ]
  }
 ],
 "metadata": {
  "kernelspec": {
   "display_name": "Python 3.8.3 ('base')",
   "language": "python",
   "name": "python3"
  },
  "language_info": {
   "codemirror_mode": {
    "name": "ipython",
    "version": 3
   },
   "file_extension": ".py",
   "mimetype": "text/x-python",
   "name": "python",
   "nbconvert_exporter": "python",
   "pygments_lexer": "ipython3",
   "version": "3.8.3"
  },
  "orig_nbformat": 4,
  "vscode": {
   "interpreter": {
    "hash": "51853e7b9ef17813c44e26c24e67824e1c2e4c124b5e14e97c176b5b64c6e1b4"
   }
  }
 },
 "nbformat": 4,
 "nbformat_minor": 2
}
