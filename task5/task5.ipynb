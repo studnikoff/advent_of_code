{
 "cells": [
  {
   "cell_type": "markdown",
   "metadata": {},
   "source": [
    "# Part 1"
   ]
  },
  {
   "cell_type": "code",
   "execution_count": 147,
   "metadata": {},
   "outputs": [],
   "source": [
    "# Get input\n",
    "with open('stacks_input.txt', 'r') as f:\n",
    "    inp = f.read()"
   ]
  },
  {
   "cell_type": "code",
   "execution_count": 148,
   "metadata": {},
   "outputs": [],
   "source": [
    "rows = inp.split('\\n')"
   ]
  },
  {
   "cell_type": "code",
   "execution_count": 149,
   "metadata": {},
   "outputs": [
    {
     "name": "stdout",
     "output_type": "stream",
     "text": [
      " 1   2   3   4   5   6   7   8   9 \n",
      "[S] [Z] [M] [T] [P] [C] [D] [C] [D]\n",
      "[C] [M] [C] [D] [F] [T] [P] [S] [S]\n",
      "[V] [J] [T] [F] [H] [Z] [R] [L] [M]\n",
      "[N] [H] [G] [J]     [H] [Q] [H] [P]\n",
      "    [N] [J] [W]     [J] [F] [D] [F]\n",
      "    [S] [N] [R]         [S] [F] [N]\n",
      "        [D] [M]         [L] [P] [G]\n",
      "                        [Z] [W] [Z]\n"
     ]
    }
   ],
   "source": [
    "for i in range(len(rows)-1, -1, -1):\n",
    "    print(rows[i])"
   ]
  },
  {
   "cell_type": "markdown",
   "metadata": {},
   "source": [
    "### Make 9 stacks"
   ]
  },
  {
   "cell_type": "code",
   "execution_count": 170,
   "metadata": {},
   "outputs": [],
   "source": [
    "# deque has stack and queue interface\n",
    "# for implementing stack I use only pop and append\n",
    "from collections import deque\n",
    "\n",
    "\n",
    "l_init = [rows[-1][i] for i in range(1, len(rows[-1]), 4)]\n",
    "stack_list = list()\n",
    "for i in l_init:\n",
    "    stack_list.append(deque())"
   ]
  },
  {
   "cell_type": "code",
   "execution_count": 171,
   "metadata": {},
   "outputs": [],
   "source": [
    "for row_id in range(len(rows)-2, -1, -1):\n",
    "    stack_id = 0\n",
    "    for i in range(1, len(rows[row_id]), 4):\n",
    "        row = rows[row_id]\n",
    "        crate = row[i]\n",
    "        if crate != ' ':\n",
    "            stack_list[stack_id].append(row[i])\n",
    "        stack_id+=1"
   ]
  },
  {
   "cell_type": "markdown",
   "metadata": {},
   "source": [
    "### Now lets make solution"
   ]
  },
  {
   "cell_type": "code",
   "execution_count": 152,
   "metadata": {},
   "outputs": [],
   "source": [
    "# Get input\n",
    "with open('operations_input.txt', 'r') as f:\n",
    "    inp = f.read()"
   ]
  },
  {
   "cell_type": "code",
   "execution_count": 153,
   "metadata": {},
   "outputs": [],
   "source": [
    "operations = inp.split('\\n')[:-1]"
   ]
  },
  {
   "cell_type": "code",
   "execution_count": 154,
   "metadata": {},
   "outputs": [],
   "source": [
    "import regex as re\n",
    "\n",
    "\n",
    "def get_cmd_from_string(operation: str):\n",
    "    m = re.findall(r'[0-9]{1,}', operation)\n",
    "    res = {\n",
    "        'quantity': int(m[0]),\n",
    "        'from_id': int(m[1])-1,\n",
    "        'to_id': int(m[2])-1\n",
    "    }\n",
    "    return res"
   ]
  },
  {
   "cell_type": "code",
   "execution_count": 155,
   "metadata": {},
   "outputs": [],
   "source": [
    "def execute_cmd(stack_list: list, cmd: dict):\n",
    "    from_id = cmd['from_id']\n",
    "    to_id = cmd['to_id']\n",
    "    for i in range(cmd['quantity']):\n",
    "        crate = stack_list[from_id].pop()\n",
    "        stack_list[to_id].append(crate)"
   ]
  },
  {
   "cell_type": "code",
   "execution_count": 156,
   "metadata": {},
   "outputs": [],
   "source": [
    "for op in operations:\n",
    "    cmd = get_cmd_from_string(op)\n",
    "    execute_cmd(stack_list, cmd)"
   ]
  },
  {
   "cell_type": "code",
   "execution_count": 158,
   "metadata": {},
   "outputs": [],
   "source": [
    "ans = list()\n",
    "for i in stack_list:\n",
    "    ans.append(i.pop())\n",
    "ans = ''.join(ans)"
   ]
  },
  {
   "cell_type": "code",
   "execution_count": 162,
   "metadata": {},
   "outputs": [
    {
     "data": {
      "text/plain": [
       "'CNSZFDVLJ'"
      ]
     },
     "execution_count": 162,
     "metadata": {},
     "output_type": "execute_result"
    }
   ],
   "source": [
    "ans"
   ]
  },
  {
   "cell_type": "markdown",
   "metadata": {},
   "source": [
    "# Part 2"
   ]
  },
  {
   "cell_type": "code",
   "execution_count": 172,
   "metadata": {},
   "outputs": [],
   "source": [
    "def execute_cmd_9001(stack_list: list, cmd: dict):\n",
    "    from_id = cmd['from_id']\n",
    "    to_id = cmd['to_id']\n",
    "    crates_move = list()\n",
    "    for i in range(cmd['quantity']):\n",
    "        crate = stack_list[from_id].pop()\n",
    "        crates_move.append(crate)\n",
    "    stack_list[to_id].extend(crates_move[-1::-1])"
   ]
  },
  {
   "cell_type": "code",
   "execution_count": 173,
   "metadata": {},
   "outputs": [],
   "source": [
    "# Надо заново пересоздать стэки\n",
    "for op in operations:\n",
    "    cmd = get_cmd_from_string(op)\n",
    "    execute_cmd_9001(stack_list, cmd)"
   ]
  },
  {
   "cell_type": "code",
   "execution_count": 175,
   "metadata": {},
   "outputs": [],
   "source": [
    "ans = list()\n",
    "for i in stack_list:\n",
    "    ans.append(i.pop())\n",
    "ans = ''.join(ans)"
   ]
  }
 ],
 "metadata": {
  "kernelspec": {
   "display_name": "Python 3.8.3 ('base')",
   "language": "python",
   "name": "python3"
  },
  "language_info": {
   "codemirror_mode": {
    "name": "ipython",
    "version": 3
   },
   "file_extension": ".py",
   "mimetype": "text/x-python",
   "name": "python",
   "nbconvert_exporter": "python",
   "pygments_lexer": "ipython3",
   "version": "3.8.3"
  },
  "orig_nbformat": 4,
  "vscode": {
   "interpreter": {
    "hash": "51853e7b9ef17813c44e26c24e67824e1c2e4c124b5e14e97c176b5b64c6e1b4"
   }
  }
 },
 "nbformat": 4,
 "nbformat_minor": 2
}
